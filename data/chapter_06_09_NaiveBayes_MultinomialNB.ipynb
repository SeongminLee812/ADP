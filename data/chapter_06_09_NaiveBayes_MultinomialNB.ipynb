{
 "cells": [
  {
   "cell_type": "code",
   "execution_count": 1,
   "id": "dacf1714",
   "metadata": {},
   "outputs": [],
   "source": [
    "from keras.datasets import imdb\n",
    "(X_train, y_train), (X_test, y_test) = imdb.load_data()\n"
   ]
  },
  {
   "cell_type": "code",
   "execution_count": 2,
   "id": "dc805ac9",
   "metadata": {},
   "outputs": [
    {
     "name": "stdout",
     "output_type": "stream",
     "text": [
      "(25000,)\n",
      "(25000,)\n"
     ]
    }
   ],
   "source": [
    "print(X_train.shape)\n",
    "print(X_test.shape)"
   ]
  },
  {
   "cell_type": "code",
   "execution_count": 5,
   "id": "90aac8b5",
   "metadata": {},
   "outputs": [
    {
     "name": "stdout",
     "output_type": "stream",
     "text": [
      "<<<<<<<<<<<< Train Dataset for MNB >>>>>>>>>>>>>\n",
      "                                                  reviews  label\n",
      "0      this film was just brilliant casting location ...      1\n",
      "1      big hair big boobs bad music and a giant safet...      0\n",
      "2      this has to be one of the worst films of the 1...      0\n",
      "3      the scots excel at storytelling the traditiona...      1\n",
      "4      worst mistake of my life br br i picked this m...      0\n",
      "...                                                  ...    ...\n",
      "24995  this is a racist movie but worthy of study and...      1\n",
      "24996  bela lugosi plays a doctor who will do anythin...      0\n",
      "24997  in a far away galaxy is a planet called ceta i...      0\n",
      "24998  six degrees had me hooked i looked forward to ...      1\n",
      "24999  as a big fan of the original film it's hard to...      0\n",
      "\n",
      "[25000 rows x 2 columns]\n",
      "<<<<<<<<<<<<< Test Dataset form MNB >>>>>>>>>>>>> \n",
      "                                                  reviews  label\n",
      "0      please give this one a miss br br kristy swans...      0\n",
      "1      this film requires a lot of patience because i...      1\n",
      "2      many animation buffs consider wladyslaw starew...      1\n",
      "3      i generally love this type of movie however th...      0\n",
      "4      like some other people wrote i'm a die hard ma...      1\n",
      "...                                                  ...    ...\n",
      "24995  the book is better than the film mostly becaus...      1\n",
      "24996  the largest crowd to ever see a wrestling even...      1\n",
      "24997  i suppose that to say this is an all out terri...      0\n",
      "24998  in love 2 is the third movie it seemed that it...      0\n",
      "24999  a good ol' boy film is almost required to have...      0\n",
      "\n",
      "[25000 rows x 2 columns]\n"
     ]
    }
   ],
   "source": [
    "import pandas as pd\n",
    "word_to_index = imdb.get_word_index()\n",
    "index_to_word = {}\n",
    "\n",
    "for key, value in word_to_index.items():\n",
    "    index_to_word[value+3] = key\n",
    "for index, token in enumerate(('<pad>', '<sos>', '<unk>')):\n",
    "    index_to_word[index] = token\n",
    "    \n",
    "train_reviews = []\n",
    "for X in X_train:\n",
    "    tmp = ' '.join([index_to_word[index] for index in X])\n",
    "    train_reviews.append(tmp)\n",
    "\n",
    "test_reviews = []\n",
    "for X in X_test:\n",
    "    tmp = ' '.join([index_to_word[index] for index in X])\n",
    "    test_reviews.append(tmp)\n",
    "\n",
    "train = pd.concat([pd.DataFrame(train_reviews), pd.DataFrame(y_train)], axis=1)\n",
    "train.columns = ['reviews', 'label']\n",
    "train['reviews'] = train['reviews'].str[6:]\n",
    "\n",
    "test = pd.concat([pd.DataFrame(test_reviews), pd.DataFrame(y_test)], axis=1)\n",
    "test.columns = ['reviews', 'label']\n",
    "test['reviews'] = test['reviews'].str[6:]\n",
    "\n",
    "print('<<<<<<<<<<<< Train Dataset for MNB >>>>>>>>>>>>>\\n', train)\n",
    "print('<'*13, 'Test Dataset form MNB', '>'*13, '\\n', test)"
   ]
  },
  {
   "cell_type": "code",
   "execution_count": 7,
   "id": "7cbe6d78",
   "metadata": {},
   "outputs": [
    {
     "name": "stdout",
     "output_type": "stream",
     "text": [
      "(25000,) (25000,)\n",
      "(25000,) (25000,)\n"
     ]
    }
   ],
   "source": [
    "X_train, X_test = train['reviews'].values, test['reviews'].values\n",
    "y_train, y_test = train['label'].values, test['label'].values\n",
    "\n",
    "print(X_train.shape, y_train.shape)\n",
    "print(X_test.shape, y_test.shape)"
   ]
  },
  {
   "cell_type": "code",
   "execution_count": 8,
   "id": "bbeceb62",
   "metadata": {},
   "outputs": [
    {
     "data": {
      "text/plain": [
       "((25000, 74703), (25000, 74703))"
      ]
     },
     "execution_count": 8,
     "metadata": {},
     "output_type": "execute_result"
    }
   ],
   "source": [
    "from sklearn.feature_extraction.text import CountVectorizer\n",
    "cv = CountVectorizer(binary=False)\n",
    "X_traincv = cv.fit_transform(X_train)\n",
    "X_testcv = cv.transform(X_test)\n",
    "\n",
    "X_traincv.shape, X_testcv.shape"
   ]
  },
  {
   "cell_type": "code",
   "execution_count": 9,
   "id": "94467d10",
   "metadata": {},
   "outputs": [
    {
     "name": "stdout",
     "output_type": "stream",
     "text": [
      "['this' 'film' 'was' 'just' 'brilliant' 'casting' 'location' 'scenery'\n",
      " 'story' 'direction' 'everyone' 'really' 'suited' 'the' 'part' 'they'\n",
      " 'played' 'and' 'you' 'could' 'imagine' 'being' 'there' 'robert' 'redford'\n",
      " 'is' 'an' 'amazing' 'actor' 'now' 'same' 'director' 'norman' 'father'\n",
      " 'came' 'from' 'scottish' 'island' 'as' 'myself' 'so' 'loved' 'fact'\n",
      " 'real' 'connection' 'with' 'witty' 'remarks' 'throughout' 'were' 'great'\n",
      " 'it' 'much' 'that' 'bought' 'soon' 'released' 'for' 'retail' 'would'\n",
      " 'recommend' 'to' 'watch' 'fly' 'fishing' 'cried' 'at' 'end' 'sad' 'know'\n",
      " 'what' 'say' 'if' 'cry' 'must' 'have' 'been' 'good' 'definitely' 'also'\n",
      " 'congratulations' 'two' 'little' 'boy' 'of' 'paul' 'children' 'are'\n",
      " 'often' 'left' 'out' 'praising' 'list' 'think' 'because' 'stars' 'play'\n",
      " 'them' 'all' 'grown' 'up' 'such' 'big' 'profile' 'whole' 'but' 'these'\n",
      " 'should' 'be' 'praised' 'done' 'don' 'lovely' 'true' 'someone' 'life'\n",
      " 'after' 'shared' 'us']\n"
     ]
    }
   ],
   "source": [
    "print(cv.inverse_transform(X_traincv)[0])"
   ]
  },
  {
   "cell_type": "code",
   "execution_count": 15,
   "id": "bce0f63b",
   "metadata": {},
   "outputs": [
    {
     "name": "stdout",
     "output_type": "stream",
     "text": [
      "['était' 'état' 'étc' 'évery' 'êxtase' 'ís' 'ísnt' 'østbye' 'über'\n",
      " 'üvegtigris']\n"
     ]
    }
   ],
   "source": [
    "print(cv.get_feature_names_out()[-10:])"
   ]
  },
  {
   "cell_type": "code",
   "execution_count": 18,
   "id": "3889b253",
   "metadata": {},
   "outputs": [
    {
     "data": {
      "text/plain": [
       "{0, 1}"
      ]
     },
     "execution_count": 18,
     "metadata": {},
     "output_type": "execute_result"
    }
   ],
   "source": [
    "set(y_train)"
   ]
  },
  {
   "cell_type": "code",
   "execution_count": 19,
   "id": "fa5cf329",
   "metadata": {},
   "outputs": [
    {
     "data": {
      "text/html": [
       "<style>#sk-container-id-1 {color: black;}#sk-container-id-1 pre{padding: 0;}#sk-container-id-1 div.sk-toggleable {background-color: white;}#sk-container-id-1 label.sk-toggleable__label {cursor: pointer;display: block;width: 100%;margin-bottom: 0;padding: 0.3em;box-sizing: border-box;text-align: center;}#sk-container-id-1 label.sk-toggleable__label-arrow:before {content: \"▸\";float: left;margin-right: 0.25em;color: #696969;}#sk-container-id-1 label.sk-toggleable__label-arrow:hover:before {color: black;}#sk-container-id-1 div.sk-estimator:hover label.sk-toggleable__label-arrow:before {color: black;}#sk-container-id-1 div.sk-toggleable__content {max-height: 0;max-width: 0;overflow: hidden;text-align: left;background-color: #f0f8ff;}#sk-container-id-1 div.sk-toggleable__content pre {margin: 0.2em;color: black;border-radius: 0.25em;background-color: #f0f8ff;}#sk-container-id-1 input.sk-toggleable__control:checked~div.sk-toggleable__content {max-height: 200px;max-width: 100%;overflow: auto;}#sk-container-id-1 input.sk-toggleable__control:checked~label.sk-toggleable__label-arrow:before {content: \"▾\";}#sk-container-id-1 div.sk-estimator input.sk-toggleable__control:checked~label.sk-toggleable__label {background-color: #d4ebff;}#sk-container-id-1 div.sk-label input.sk-toggleable__control:checked~label.sk-toggleable__label {background-color: #d4ebff;}#sk-container-id-1 input.sk-hidden--visually {border: 0;clip: rect(1px 1px 1px 1px);clip: rect(1px, 1px, 1px, 1px);height: 1px;margin: -1px;overflow: hidden;padding: 0;position: absolute;width: 1px;}#sk-container-id-1 div.sk-estimator {font-family: monospace;background-color: #f0f8ff;border: 1px dotted black;border-radius: 0.25em;box-sizing: border-box;margin-bottom: 0.5em;}#sk-container-id-1 div.sk-estimator:hover {background-color: #d4ebff;}#sk-container-id-1 div.sk-parallel-item::after {content: \"\";width: 100%;border-bottom: 1px solid gray;flex-grow: 1;}#sk-container-id-1 div.sk-label:hover label.sk-toggleable__label {background-color: #d4ebff;}#sk-container-id-1 div.sk-serial::before {content: \"\";position: absolute;border-left: 1px solid gray;box-sizing: border-box;top: 0;bottom: 0;left: 50%;z-index: 0;}#sk-container-id-1 div.sk-serial {display: flex;flex-direction: column;align-items: center;background-color: white;padding-right: 0.2em;padding-left: 0.2em;position: relative;}#sk-container-id-1 div.sk-item {position: relative;z-index: 1;}#sk-container-id-1 div.sk-parallel {display: flex;align-items: stretch;justify-content: center;background-color: white;position: relative;}#sk-container-id-1 div.sk-item::before, #sk-container-id-1 div.sk-parallel-item::before {content: \"\";position: absolute;border-left: 1px solid gray;box-sizing: border-box;top: 0;bottom: 0;left: 50%;z-index: -1;}#sk-container-id-1 div.sk-parallel-item {display: flex;flex-direction: column;z-index: 1;position: relative;background-color: white;}#sk-container-id-1 div.sk-parallel-item:first-child::after {align-self: flex-end;width: 50%;}#sk-container-id-1 div.sk-parallel-item:last-child::after {align-self: flex-start;width: 50%;}#sk-container-id-1 div.sk-parallel-item:only-child::after {width: 0;}#sk-container-id-1 div.sk-dashed-wrapped {border: 1px dashed gray;margin: 0 0.4em 0.5em 0.4em;box-sizing: border-box;padding-bottom: 0.4em;background-color: white;}#sk-container-id-1 div.sk-label label {font-family: monospace;font-weight: bold;display: inline-block;line-height: 1.2em;}#sk-container-id-1 div.sk-label-container {text-align: center;}#sk-container-id-1 div.sk-container {/* jupyter's `normalize.less` sets `[hidden] { display: none; }` but bootstrap.min.css set `[hidden] { display: none !important; }` so we also need the `!important` here to be able to override the default hidden behavior on the sphinx rendered scikit-learn.org. See: https://github.com/scikit-learn/scikit-learn/issues/21755 */display: inline-block !important;position: relative;}#sk-container-id-1 div.sk-text-repr-fallback {display: none;}</style><div id=\"sk-container-id-1\" class=\"sk-top-container\"><div class=\"sk-text-repr-fallback\"><pre>MultinomialNB()</pre><b>In a Jupyter environment, please rerun this cell to show the HTML representation or trust the notebook. <br />On GitHub, the HTML representation is unable to render, please try loading this page with nbviewer.org.</b></div><div class=\"sk-container\" hidden><div class=\"sk-item\"><div class=\"sk-estimator sk-toggleable\"><input class=\"sk-toggleable__control sk-hidden--visually\" id=\"sk-estimator-id-1\" type=\"checkbox\" checked><label for=\"sk-estimator-id-1\" class=\"sk-toggleable__label sk-toggleable__label-arrow\">MultinomialNB</label><div class=\"sk-toggleable__content\"><pre>MultinomialNB()</pre></div></div></div></div></div>"
      ],
      "text/plain": [
       "MultinomialNB()"
      ]
     },
     "execution_count": 19,
     "metadata": {},
     "output_type": "execute_result"
    }
   ],
   "source": [
    "from sklearn.naive_bayes import MultinomialNB\n",
    "mnb = MultinomialNB()\n",
    "mnb.fit(X_traincv, y_train)"
   ]
  },
  {
   "cell_type": "code",
   "execution_count": 21,
   "id": "8eeccf79",
   "metadata": {},
   "outputs": [
    {
     "name": "stdout",
     "output_type": "stream",
     "text": [
      "Accuracy :81.42 %\n",
      "              precision    recall  f1-score   support\n",
      "\n",
      "           0       0.78      0.88      0.83     12500\n",
      "           1       0.86      0.75      0.80     12500\n",
      "\n",
      "    accuracy                           0.81     25000\n",
      "   macro avg       0.82      0.81      0.81     25000\n",
      "weighted avg       0.82      0.81      0.81     25000\n",
      "\n"
     ]
    }
   ],
   "source": [
    "from sklearn.metrics import accuracy_score, classification_report\n",
    "pred = mnb.predict(X_testcv)\n",
    "acc = accuracy_score(y_test, pred)\n",
    "cr = classification_report(y_test, pred)\n",
    "\n",
    "print('Accuracy :{:.2f} %'.format(acc * 100))\n",
    "print(cr)"
   ]
  },
  {
   "cell_type": "code",
   "execution_count": null,
   "id": "26c5a9cf",
   "metadata": {},
   "outputs": [],
   "source": []
  }
 ],
 "metadata": {
  "kernelspec": {
   "display_name": "Python 3 (ipykernel)",
   "language": "python",
   "name": "python3"
  },
  "language_info": {
   "codemirror_mode": {
    "name": "ipython",
    "version": 3
   },
   "file_extension": ".py",
   "mimetype": "text/x-python",
   "name": "python",
   "nbconvert_exporter": "python",
   "pygments_lexer": "ipython3",
   "version": "3.9.12"
  }
 },
 "nbformat": 4,
 "nbformat_minor": 5
}
